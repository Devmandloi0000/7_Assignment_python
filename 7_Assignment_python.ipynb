{
 "cells": [
  {
   "cell_type": "markdown",
   "id": "5ff6e083",
   "metadata": {},
   "source": [
    "# 7_Assignment_python "
   ]
  },
  {
   "cell_type": "markdown",
   "id": "3c714153",
   "metadata": {},
   "source": [
    "## QUE(1)"
   ]
  },
  {
   "cell_type": "markdown",
   "id": "9b221c6f",
   "metadata": {},
   "source": [
    "Q.1. Create two int type variables, apply addition, subtraction, division and multiplications\n",
    "and store the results in variables. Then print the data in the following format by calling the\n",
    "variables:\n",
    "\n",
    "First variable is __ & second variable is __.\n",
    "\n",
    "Addition: __ + __ = __\n",
    "\n",
    "Subtraction: __ - __ = __\n",
    "\n",
    "Multiplication: __ * __ = __\n",
    "\n",
    "Division: __ / __ = __\n"
   ]
  },
  {
   "cell_type": "code",
   "execution_count": 52,
   "id": "6f693adb",
   "metadata": {},
   "outputs": [],
   "source": [
    "def mathematics():\n",
    "    a = input('ENTER ANY INTERGERS HERE : ')\n",
    "    b = input('ENTER ANY INTERGERS HERE : ')\n",
    "    if type(a) == str or type(b) == str:\n",
    "        c = int(a)\n",
    "        d = int(b)\n",
    "        print(f\"ADDITION : {c} + {d} : {c+d}\")\n",
    "        print(f\"SUBTRACTIONS : {c} - {d} : {c-d}\")\n",
    "        print(f\"DIVISION : {c} / {d} : {c/d}\")\n",
    "        print(f\"MULTIPLICATION : {c} * {d} : {c*d}\")"
   ]
  },
  {
   "cell_type": "code",
   "execution_count": 53,
   "id": "4cadc94e",
   "metadata": {},
   "outputs": [
    {
     "name": "stdout",
     "output_type": "stream",
     "text": [
      "ENTER ANY INTERGERS HERE : 6\n",
      "ENTER ANY INTERGERS HERE : 2\n",
      "ADDITION : 6 + 2 : 8\n",
      "SUBTRACTIONS : 6 - 2 : 4\n",
      "DIVISION : 6 / 2 : 3.0\n",
      "MULTIPLICATION : 6 * 2 : 12\n"
     ]
    }
   ],
   "source": [
    "mathematics()"
   ]
  },
  {
   "cell_type": "code",
   "execution_count": 19,
   "id": "3527c81f",
   "metadata": {},
   "outputs": [
    {
     "name": "stdout",
     "output_type": "stream",
     "text": [
      "ENTER FIRST INTERGERS HERE : 6\n",
      "ENTER SECOND INTERGERS HERE : 2\n",
      "\n",
      "First variable is 6 & second variable is 2.\n",
      "\n",
      "Addition: 6 + 2 = 8\n",
      "\n",
      "Subtraction: 6 - 2 = 4\n",
      "\n",
      "Multiplication: 6 * 2 = 12\n",
      "\n",
      "Division: 6 / 2 = 3.0\n",
      "\n",
      "\n"
     ]
    }
   ],
   "source": [
    "first_variable = int(input('ENTER FIRST INTERGERS HERE : '))\n",
    "second_variable = int(input('ENTER SECOND INTERGERS HERE : '))\n",
    "\n",
    "print(f\"\"\"\n",
    "First variable is {first_variable} & second variable is {second_variable}.\n",
    "\n",
    "Addition: {first_variable} + {second_variable} = {first_variable + second_variable}\n",
    "\n",
    "Subtraction: {first_variable} - {second_variable} = {first_variable - second_variable}\n",
    "\n",
    "Multiplication: {first_variable} * {second_variable} = {first_variable * second_variable}\n",
    "\n",
    "Division: {first_variable} / {second_variable} = {first_variable / second_variable}\n",
    "\n",
    "\"\"\")\n",
    "\n"
   ]
  },
  {
   "cell_type": "markdown",
   "id": "7900f8a5",
   "metadata": {},
   "source": [
    "## QUE(2)"
   ]
  },
  {
   "cell_type": "markdown",
   "id": "86afa2fe",
   "metadata": {},
   "source": [
    "Q.2. What is the difference between the following operators:\n",
    "    \n",
    "(i) ‘/’ & ‘//’\n",
    "\n",
    "(ii) ‘**’ & ‘^’\n"
   ]
  },
  {
   "cell_type": "markdown",
   "id": "ba02b966",
   "metadata": {},
   "source": [
    "soltion >>\n",
    "\n",
    "(1) '/' is used for division and '//' is used floor divide\n",
    "\n",
    "(2) '**' is used to get power and '^' is used for Bitwise XOR"
   ]
  },
  {
   "cell_type": "markdown",
   "id": "4760ae60",
   "metadata": {},
   "source": [
    "## QUE(3) "
   ]
  },
  {
   "cell_type": "markdown",
   "id": "4b4fad5f",
   "metadata": {},
   "source": [
    "Q.3. List the logical operators.\n"
   ]
  },
  {
   "cell_type": "markdown",
   "id": "daa883f5",
   "metadata": {},
   "source": [
    "SOLUTION :-\n",
    "\n",
    "LOGICAL OPERATORS IN PYTHON :-\n",
    "    \n",
    "(1) and\n",
    "    \n",
    "(2) or\n",
    "    \n",
    "(3) not\n",
    "    "
   ]
  },
  {
   "cell_type": "markdown",
   "id": "a7321ec5",
   "metadata": {},
   "source": [
    "## QUE(4) "
   ]
  },
  {
   "cell_type": "markdown",
   "id": "40ee61b1",
   "metadata": {},
   "source": [
    "Q.4. Explain right shift operator and left shift operator with examples.\n"
   ]
  },
  {
   "cell_type": "markdown",
   "id": "6c6af167",
   "metadata": {},
   "source": [
    "solution :-\n",
    "    \n",
    "Right shift operator :- shift the bit of the numbers to right side and fill zero on void side\n",
    "    \n",
    "Left shift operator :- shifts bit of the numbers to the left side and fill 0 on to the right side"
   ]
  },
  {
   "cell_type": "code",
   "execution_count": 58,
   "id": "43085b90",
   "metadata": {},
   "outputs": [
    {
     "name": "stdout",
     "output_type": "stream",
     "text": [
      "50\n",
      "-50\n"
     ]
    }
   ],
   "source": [
    "# RIGHT SIDE OPERATOR\n",
    "\n",
    "a = 100\n",
    "b = -100\n",
    "\n",
    "print(a >> 1)\n",
    "print(b >> 1)"
   ]
  },
  {
   "cell_type": "code",
   "execution_count": 57,
   "id": "936e290c",
   "metadata": {},
   "outputs": [
    {
     "name": "stdout",
     "output_type": "stream",
     "text": [
      "200\n",
      "-200\n"
     ]
    }
   ],
   "source": [
    "# LEFT SIDE OPERATOR\n",
    "\n",
    "a = 100\n",
    "b = -100\n",
    "\n",
    "print(a << 1)\n",
    "print(b << 1)"
   ]
  },
  {
   "cell_type": "markdown",
   "id": "b2608339",
   "metadata": {},
   "source": [
    "## QUE(5) "
   ]
  },
  {
   "cell_type": "markdown",
   "id": "f38cc1d8",
   "metadata": {},
   "source": [
    "Q.5. Create a list containing int type data of length 15. Then write a code to check if 10 is\n",
    "present in the list or not."
   ]
  },
  {
   "cell_type": "code",
   "execution_count": 25,
   "id": "8a1a5aab",
   "metadata": {},
   "outputs": [],
   "source": [
    "my_list = [1,2,3,4,5,6,7,5,6,7,8,9,10,11,12,13,14,15]"
   ]
  },
  {
   "cell_type": "code",
   "execution_count": 70,
   "id": "161b4913",
   "metadata": {},
   "outputs": [],
   "source": [
    "def check(name):\n",
    "    for i in name:\n",
    "        if type(i) == int:\n",
    "            if i == 10:\n",
    "                print(f\"{i} Available in list\")\n",
    "                print(f\"lentgh of my_list :- {len(my_list)}\")"
   ]
  },
  {
   "cell_type": "code",
   "execution_count": 71,
   "id": "2f1f2d4e",
   "metadata": {},
   "outputs": [
    {
     "name": "stdout",
     "output_type": "stream",
     "text": [
      "10 Available in list\n",
      "lentgh of my_list :- 18\n"
     ]
    }
   ],
   "source": [
    "check(my_list)"
   ]
  },
  {
   "cell_type": "code",
   "execution_count": 61,
   "id": "4aaa4485",
   "metadata": {},
   "outputs": [
    {
     "data": {
      "text/plain": [
       "[10]"
      ]
     },
     "execution_count": 61,
     "metadata": {},
     "output_type": "execute_result"
    }
   ],
   "source": [
    "# comprehensive method\n",
    "\n",
    "[i for i in my_list if i == 10]"
   ]
  },
  {
   "cell_type": "code",
   "execution_count": null,
   "id": "e2b9f039",
   "metadata": {},
   "outputs": [],
   "source": []
  }
 ],
 "metadata": {
  "kernelspec": {
   "display_name": "Python 3 (ipykernel)",
   "language": "python",
   "name": "python3"
  },
  "language_info": {
   "codemirror_mode": {
    "name": "ipython",
    "version": 3
   },
   "file_extension": ".py",
   "mimetype": "text/x-python",
   "name": "python",
   "nbconvert_exporter": "python",
   "pygments_lexer": "ipython3",
   "version": "3.9.12"
  }
 },
 "nbformat": 4,
 "nbformat_minor": 5
}
